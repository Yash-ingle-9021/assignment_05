{
 "cells": [
  {
   "cell_type": "code",
   "execution_count": 1,
   "metadata": {},
   "outputs": [
    {
     "name": "stdout",
     "output_type": "stream",
     "text": [
      "5th Feb :- ASSIGNMENT_05\n"
     ]
    }
   ],
   "source": [
    "print(\"5th Feb :- ASSIGNMENT_05\")"
   ]
  },
  {
   "cell_type": "code",
   "execution_count": 22,
   "metadata": {},
   "outputs": [
    {
     "name": "stdout",
     "output_type": "stream",
     "text": [
      "Q_1_ANS :- Class :- class is a keyword to create class function in python. We can create multipal function in class and we can create one time and used multipal times class is a function to maintain a saperate functions / spacific function.       Object :- object is a variables and functions also to create in class functions so many objects in class function.  \n",
      "EX :-\n",
      "Welcome Yash\n"
     ]
    }
   ],
   "source": [
    "print(\"Q_1_ANS :- Class :- class is a keyword to create class function in python. We can create multipal function in class and we can create one time and used multipal times class is a function to maintain a saperate functions / spacific function.       Object :- object is a variables and functions also to create in class functions so many objects in class function.  \")\n",
    "print(\"EX :-\")\n",
    "\n",
    "class namep:\n",
    "    def welc(self,name) :\n",
    "        print(\"Welcome \" + name)\n",
    "\n",
    "y = namep()\n",
    "y.welc(\"Yash\")\n"
   ]
  },
  {
   "cell_type": "code",
   "execution_count": 15,
   "metadata": {},
   "outputs": [
    {
     "name": "stdout",
     "output_type": "stream",
     "text": [
      "Q_2_ANS :- This are the four pillars in OOPs   1. Inheritance  2. Polymophisum   3. Encapsulation  4. Abstraction \n"
     ]
    }
   ],
   "source": [
    "print(\"Q_2_ANS :- This are the four pillars in OOPs   1. Inheritance  2. Polymophisum   3. Encapsulation  4. Abstraction \")"
   ]
  },
  {
   "cell_type": "code",
   "execution_count": 24,
   "metadata": {},
   "outputs": [
    {
     "name": "stdout",
     "output_type": "stream",
     "text": [
      "Q_3_ANS :-  __init__() function is used to get arguments in function through the user input \n",
      "EX :-\n"
     ]
    },
    {
     "data": {
      "text/plain": [
       "('yash ingle', 'yash@gmail.com', 8576424321)"
      ]
     },
     "execution_count": 24,
     "metadata": {},
     "output_type": "execute_result"
    }
   ],
   "source": [
    "print(\"Q_3_ANS :-  __init__() function is used to get arguments in function through the user input \")\n",
    "\n",
    "print(\"EX :-\")\n",
    "class details:\n",
    "    def __init__(self,name,email,number):\n",
    "         self.__name = name\n",
    "         self.__email = email\n",
    "         self.__number = number\n",
    "    def return_details(self):\n",
    "        return self.__name ,self.__email,self.__number\n",
    "\n",
    "d = details(\"yash ingle\",\"yash@gmail.com\",8576424321)\n",
    "d.return_details()\n"
   ]
  },
  {
   "cell_type": "code",
   "execution_count": 20,
   "metadata": {},
   "outputs": [
    {
     "name": "stdout",
     "output_type": "stream",
     "text": [
      "Q_4_ANS :- Self is not a resurved keyword in OOPs self is a normal keyword but the self is denoted by member in your function in python and  we can use any keyword or string without using self  \n"
     ]
    }
   ],
   "source": [
    "print(\"Q_4_ANS :- Self is not a resurved keyword in OOPs self is a normal keyword but the self is denoted by member in your function in python and  we can use any keyword or string without using self  \")"
   ]
  },
  {
   "cell_type": "code",
   "execution_count": 29,
   "metadata": {},
   "outputs": [
    {
     "name": "stdout",
     "output_type": "stream",
     "text": [
      "Q_5_ANS :- Inheritance is  concept of inharit base class to driveed class and base class to more class. five types of inheritance method to inharit classes  1. single inheritance  2. maltipal inheritance  3. maltilevel inheritance  4. harracichal inheritance  5. habrid inheritance \n",
      "EX :-\n"
     ]
    },
    {
     "data": {
      "text/plain": [
       "'Welcome yash'"
      ]
     },
     "execution_count": 29,
     "metadata": {},
     "output_type": "execute_result"
    }
   ],
   "source": [
    "print(\"Q_5_ANS :- Inheritance is  concept of inharit base class to driveed class and base class to more class. five types of inheritance method to inharit classes  1. single inheritance  2. maltipal inheritance  3. maltilevel inheritance  4. harracichal inheritance  5. habrid inheritance \")\n",
    "\n",
    "print(\"EX :-\")\n",
    "class class1:\n",
    "    def wlc(self):\n",
    "        return  \"welcome sir\"\n",
    "    \n",
    "class class2(class1):\n",
    "    def nwlc(self,name) :\n",
    "        return \"Welcome \" + name\n",
    "        \n",
    "p = class2()\n",
    "p.nwlc(\"yash\")"
   ]
  },
  {
   "cell_type": "code",
   "execution_count": null,
   "metadata": {},
   "outputs": [],
   "source": []
  }
 ],
 "metadata": {
  "kernelspec": {
   "display_name": "Python 3",
   "language": "python",
   "name": "python3"
  },
  "language_info": {
   "codemirror_mode": {
    "name": "ipython",
    "version": 3
   },
   "file_extension": ".py",
   "mimetype": "text/x-python",
   "name": "python",
   "nbconvert_exporter": "python",
   "pygments_lexer": "ipython3",
   "version": "3.10.0"
  },
  "orig_nbformat": 4,
  "vscode": {
   "interpreter": {
    "hash": "fdeaa5d4d36968213c2982d2716b964fdcbe01a872db07f82123c6518902f24d"
   }
  }
 },
 "nbformat": 4,
 "nbformat_minor": 2
}
